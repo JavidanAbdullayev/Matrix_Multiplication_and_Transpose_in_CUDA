{
  "nbformat": 4,
  "nbformat_minor": 0,
  "metadata": {
    "colab": {
      "name": "Matrix_Transpose_in_CUDA.ipynb",
      "provenance": [],
      "collapsed_sections": []
    },
    "kernelspec": {
      "name": "python3",
      "display_name": "Python 3"
    },
    "accelerator": "GPU"
  },
  "cells": [
    {
      "cell_type": "code",
      "metadata": {
        "colab": {
          "base_uri": "https://localhost:8080/"
        },
        "id": "c4Im4KlaVX2T",
        "outputId": "99f33466-9c5a-4fcb-9f9d-12b398118a8a"
      },
      "source": [
        "!pip install git+git://github.com/andreinechaev/nvcc4jupyter.git"
      ],
      "execution_count": null,
      "outputs": [
        {
          "output_type": "stream",
          "text": [
            "Collecting git+git://github.com/andreinechaev/nvcc4jupyter.git\n",
            "  Cloning git://github.com/andreinechaev/nvcc4jupyter.git to /tmp/pip-req-build-joj1pcxy\n",
            "  Running command git clone -q git://github.com/andreinechaev/nvcc4jupyter.git /tmp/pip-req-build-joj1pcxy\n",
            "Building wheels for collected packages: NVCCPlugin\n",
            "  Building wheel for NVCCPlugin (setup.py) ... \u001b[?25l\u001b[?25hdone\n",
            "  Created wheel for NVCCPlugin: filename=NVCCPlugin-0.0.2-cp37-none-any.whl size=4307 sha256=213d290f802b04ffab32d6894e75694bfdf512e825139868f298c0b342cf3760\n",
            "  Stored in directory: /tmp/pip-ephem-wheel-cache-4t6nnhc3/wheels/10/c2/05/ca241da37bff77d60d31a9174f988109c61ba989e4d4650516\n",
            "Successfully built NVCCPlugin\n",
            "Installing collected packages: NVCCPlugin\n",
            "Successfully installed NVCCPlugin-0.0.2\n"
          ],
          "name": "stdout"
        }
      ]
    },
    {
      "cell_type": "code",
      "metadata": {
        "colab": {
          "base_uri": "https://localhost:8080/"
        },
        "id": "V1YkHZjbVeWg",
        "outputId": "991625df-33f7-4d84-883d-6a21c9e920ec"
      },
      "source": [
        "%load_ext nvcc_plugin"
      ],
      "execution_count": null,
      "outputs": [
        {
          "output_type": "stream",
          "text": [
            "created output directory at /content/src\n",
            "Out bin /content/result.out\n"
          ],
          "name": "stdout"
        }
      ]
    },
    {
      "cell_type": "markdown",
      "metadata": {
        "id": "zBo4miUPcJ2f"
      },
      "source": [
        "## Matrix transpose (in CPU)"
      ]
    },
    {
      "cell_type": "code",
      "metadata": {
        "colab": {
          "base_uri": "https://localhost:8080/"
        },
        "id": "cnJxQGKebbNy",
        "outputId": "ab77dec5-64ed-4edc-972b-4ecdac75b4bc"
      },
      "source": [
        "%%cu\n",
        "#include <cuda.h>\n",
        "#include <iostream>\n",
        "using namespace std;\n",
        "\n",
        "#define N 4\n",
        "\n",
        "void matrix_mul(int* in, int* out){\n",
        "\n",
        "    for (int row=0; row<N; row++){\n",
        "        for (int col=0; col<N; col++){\n",
        "            out[row*N + col] =  in[col*N + row];\n",
        "        }\n",
        "    }\n",
        "       \n",
        "}\n",
        "\n",
        "int main(){\n",
        "    \n",
        "    int* in, * out ;\n",
        "    size_t bytes = N * N * sizeof(int);\n",
        "    srand(time(NULL));\n",
        "    \n",
        "    cudaMallocHost(&in, bytes);\n",
        "    cudaMallocHost(&out, bytes);\n",
        "\n",
        "    for (int i=0; i<N*N; i++){\n",
        "        in[i] = rand()%5;\n",
        "    }\n",
        "\n",
        "    cout << \"Values of array h_in:\" << endl;\n",
        "    for (int i=0; i<N; i++){\n",
        "        for (int j=0; j<N; j++){\n",
        "            cout << in[i*N+j] << \" \";\n",
        "        }\n",
        "        cout << endl;\n",
        "    }\n",
        "  \n",
        "    cout << \"\\n-------------START-----------\\n\";\n",
        "\n",
        "    matrix_mul(in, out);\n",
        "\n",
        "    for (int i=0; i<N; i++){\n",
        "        for (int j=0; j<N; j++){\n",
        "            cout << out[i*N+j] << \" \";\n",
        "        }\n",
        "        cout << endl;\n",
        "    }\n",
        "\n",
        "\n",
        "  return 0;\n",
        "}"
      ],
      "execution_count": 11,
      "outputs": [
        {
          "output_type": "stream",
          "text": [
            "Values of array h_in:\n",
            "1 0 1 2 \n",
            "4 3 3 4 \n",
            "2 1 3 3 \n",
            "1 3 0 2 \n",
            "\n",
            "-------------START-----------\n",
            "1 4 2 1 \n",
            "0 3 1 3 \n",
            "1 3 3 0 \n",
            "2 4 3 2 \n",
            "\n"
          ],
          "name": "stdout"
        }
      ]
    },
    {
      "cell_type": "markdown",
      "metadata": {
        "id": "HZcc3X57cQbe"
      },
      "source": [
        "## Matrix transpose (in GPU)\n"
      ]
    },
    {
      "cell_type": "code",
      "metadata": {
        "colab": {
          "base_uri": "https://localhost:8080/"
        },
        "id": "MMdLo7v2cNXv",
        "outputId": "13af02d9-772a-40f1-ca7e-f3fbbeac4762"
      },
      "source": [
        "%%cu\n",
        "#include <cuda.h>\n",
        "#include <iostream>\n",
        "#define N  4\n",
        "#define Width  4\n",
        "#define TILE_WIDTH  2\n",
        "using namespace std;\n",
        "\n",
        "__global__ void matrix_transpose(int* in, int* out){\n",
        "\n",
        "    int row = blockIdx.x;\n",
        "    int col = threadIdx.x;\n",
        "\n",
        "    out[row*N + col] =  in[col*N + row];\n",
        "}\n",
        "\n",
        "int main(){\n",
        "    \n",
        "    cudaEvent_t start, stop;\n",
        "    cudaEventCreate(&start);\n",
        "    cudaEventCreate(&stop);\n",
        "    \n",
        "    int* h_in, * h_out;\n",
        "    size_t bytes = N * N * sizeof(int);\n",
        "    srand(time(NULL));\n",
        "    \n",
        "    cudaMallocHost(&h_in, bytes);\n",
        "    cudaMallocHost(&h_out, bytes);\n",
        "\n",
        "    for (int i=0; i<N*N; i++){\n",
        "        h_in[i] = rand()%5;\n",
        "    }\n",
        "\n",
        "    cout << \"Values of array h_in:\" << endl;\n",
        "    for (int i=0; i<N; i++){\n",
        "        for (int j=0; j<N; j++){\n",
        "            cout << h_in[i*N+j] << \" \";\n",
        "        }\n",
        "        cout << endl;\n",
        "    }\n",
        "\n",
        "    cout << \"\\n-------------START-----------\\n\";\n",
        "\n",
        "     # // Create device variables\n",
        "    int* d_in, * d_out;\n",
        "\n",
        "    # // Allocate memory on the device\n",
        "    cudaMalloc(&d_in, bytes);\n",
        "    cudaMalloc(&d_out, bytes);\n",
        "\n",
        "    # // Copy data from the host to the device (CPU -> GPU)\n",
        "    cudaMemcpy(d_in, h_in, bytes, cudaMemcpyHostToDevice);\n",
        "\n",
        "    # // Lauch the kernel\n",
        "    cudaEventRecord(start, 0);\n",
        "    matrix_transpose<<<N, N>>>(d_in, d_out);\n",
        "    cudaEventRecord(stop, 0);\n",
        "    # // Copy data from the device to the host (GPU -> CPU)\n",
        "    cudaMemcpy(h_out, d_out, bytes, cudaMemcpyDeviceToHost);\n",
        " \n",
        "    cout << endl << \"values of array h_out \" << endl;\n",
        "    for (int i=0; i<N; i++){\n",
        "        for (int j=0; j<N; j++){\n",
        "            cout << h_out[i*N+j] << \" \";\n",
        "        }\n",
        "        cout << endl;\n",
        "    }\n",
        "\n",
        "    float diff;\n",
        "    cudaEventElapsedTime(&diff, start, stop);\n",
        "    cout << \"time: \" << diff;\n",
        "\n",
        "  return 0;\n",
        "}"
      ],
      "execution_count": 15,
      "outputs": [
        {
          "output_type": "stream",
          "text": [
            "Values of array h_in:\n",
            "4 1 3 3 \n",
            "3 3 1 1 \n",
            "2 1 4 4 \n",
            "2 1 4 2 \n",
            "\n",
            "-------------START-----------\n",
            "\n",
            "values of array h_out \n",
            "4 3 2 2 \n",
            "1 3 1 1 \n",
            "3 1 4 4 \n",
            "3 1 4 2 \n",
            "time: 0.017696\n"
          ],
          "name": "stdout"
        }
      ]
    },
    {
      "cell_type": "code",
      "metadata": {
        "id": "v2W-NbJtcT99"
      },
      "source": [
        ""
      ],
      "execution_count": null,
      "outputs": []
    }
  ]
}