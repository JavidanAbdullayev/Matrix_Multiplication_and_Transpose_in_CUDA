{
  "nbformat": 4,
  "nbformat_minor": 0,
  "metadata": {
    "colab": {
      "name": "Matrix_Multiplication_in_CUDA.ipynb",
      "provenance": [],
      "collapsed_sections": []
    },
    "kernelspec": {
      "name": "python3",
      "display_name": "Python 3"
    },
    "accelerator": "GPU"
  },
  "cells": [
    {
      "cell_type": "code",
      "metadata": {
        "colab": {
          "base_uri": "https://localhost:8080/"
        },
        "id": "c4Im4KlaVX2T",
        "outputId": "99f33466-9c5a-4fcb-9f9d-12b398118a8a"
      },
      "source": [
        "!pip install git+git://github.com/andreinechaev/nvcc4jupyter.git"
      ],
      "execution_count": null,
      "outputs": [
        {
          "output_type": "stream",
          "text": [
            "Collecting git+git://github.com/andreinechaev/nvcc4jupyter.git\n",
            "  Cloning git://github.com/andreinechaev/nvcc4jupyter.git to /tmp/pip-req-build-joj1pcxy\n",
            "  Running command git clone -q git://github.com/andreinechaev/nvcc4jupyter.git /tmp/pip-req-build-joj1pcxy\n",
            "Building wheels for collected packages: NVCCPlugin\n",
            "  Building wheel for NVCCPlugin (setup.py) ... \u001b[?25l\u001b[?25hdone\n",
            "  Created wheel for NVCCPlugin: filename=NVCCPlugin-0.0.2-cp37-none-any.whl size=4307 sha256=213d290f802b04ffab32d6894e75694bfdf512e825139868f298c0b342cf3760\n",
            "  Stored in directory: /tmp/pip-ephem-wheel-cache-4t6nnhc3/wheels/10/c2/05/ca241da37bff77d60d31a9174f988109c61ba989e4d4650516\n",
            "Successfully built NVCCPlugin\n",
            "Installing collected packages: NVCCPlugin\n",
            "Successfully installed NVCCPlugin-0.0.2\n"
          ],
          "name": "stdout"
        }
      ]
    },
    {
      "cell_type": "code",
      "metadata": {
        "colab": {
          "base_uri": "https://localhost:8080/"
        },
        "id": "V1YkHZjbVeWg",
        "outputId": "991625df-33f7-4d84-883d-6a21c9e920ec"
      },
      "source": [
        "%load_ext nvcc_plugin"
      ],
      "execution_count": null,
      "outputs": [
        {
          "output_type": "stream",
          "text": [
            "created output directory at /content/src\n",
            "Out bin /content/result.out\n"
          ],
          "name": "stdout"
        }
      ]
    },
    {
      "cell_type": "markdown",
      "metadata": {
        "id": "J3IVCMZhbNVx"
      },
      "source": [
        "## Matrix Multiplication in CPU"
      ]
    },
    {
      "cell_type": "code",
      "metadata": {
        "colab": {
          "base_uri": "https://localhost:8080/"
        },
        "id": "qzZufACAbNC7",
        "outputId": "585acad8-d909-4447-b9fc-566c4781acdb"
      },
      "source": [
        "%%cu\n",
        "#include <cuda.h>\n",
        "#include <iostream>\n",
        "using namespace std;\n",
        "\n",
        "#define N 4\n",
        "\n",
        "void matrix_mul(int* a, int* b, int* c){\n",
        "\n",
        "    for (int row=0; row<N; row++){\n",
        "        for (int col=0; col<N; col++){\n",
        "            int sum = 0;            \n",
        "            for (int k=0; k<N; k++){\n",
        "                sum += a[row*N + k] * b[k*N + col];\n",
        "            }\n",
        "            c[row*N+col] = sum;\n",
        "        }\n",
        "    }   \n",
        "}\n",
        "\n",
        "int main(){\n",
        "    \n",
        "    int* h_a, * h_b, * h_c;\n",
        "    size_t bytes = N * N * sizeof(int);\n",
        "    srand(time(NULL));\n",
        "    \n",
        "    cudaMallocHost(&h_a, bytes);\n",
        "    cudaMallocHost(&h_b, bytes);\n",
        "    cudaMallocHost(&h_c, bytes);\n",
        "\n",
        "    for (int i=0; i<N*N; i++){\n",
        "        h_a[i] = rand()%5;\n",
        "        h_b[i] = rand()%5;\n",
        "    }\n",
        "\n",
        "    cout << \"Values of array h_a:\" << endl;\n",
        "    for (int i=0; i<N; i++){\n",
        "        for (int j=0; j<N; j++){\n",
        "            cout << h_a[i*N+j] << \" \";\n",
        "        }\n",
        "        cout << endl;\n",
        "    }\n",
        "    cout << \"\\nValues of array h_b:\" << endl;\n",
        "    for (int i=0; i<N; i++){\n",
        "        for (int j=0; j<N; j++){\n",
        "            cout << h_b[i*N+j] << \" \";\n",
        "        }\n",
        "        cout << endl;\n",
        "    }\n",
        "    cout << \"\\n-------------START-----------\\n\";\n",
        "\n",
        "\n",
        "    matrix_mul(h_a, h_b, h_c);\n",
        "\n",
        "    for (int i=0; i<N; i++){\n",
        "        for (int j=0; j<N; j++){\n",
        "            cout << h_c[i*N+j] << \" \";\n",
        "        }\n",
        "        cout << endl;\n",
        "    }\n",
        "\n",
        "\n",
        "  return 0;\n",
        "}"
      ],
      "execution_count": 8,
      "outputs": [
        {
          "output_type": "stream",
          "text": [
            "Values of array h_a:\n",
            "1 2 2 2 \n",
            "1 3 2 4 \n",
            "0 0 2 3 \n",
            "2 2 1 2 \n",
            "\n",
            "Values of array h_b:\n",
            "4 2 0 4 \n",
            "4 0 4 1 \n",
            "0 0 0 4 \n",
            "3 1 0 4 \n",
            "\n",
            "-------------START-----------\n",
            "18 4 8 22 \n",
            "28 6 12 31 \n",
            "9 3 0 20 \n",
            "22 6 8 22 \n",
            "\n"
          ],
          "name": "stdout"
        }
      ]
    },
    {
      "cell_type": "markdown",
      "metadata": {
        "id": "z_4OG8VZbXUQ"
      },
      "source": [
        "## Matrix Multiplication in GPU"
      ]
    },
    {
      "cell_type": "code",
      "metadata": {
        "colab": {
          "base_uri": "https://localhost:8080/"
        },
        "id": "JpFRVxQ3bTGP",
        "outputId": "f4de2193-4232-4fb2-c6ad-966ba857833a"
      },
      "source": [
        "%%cu\n",
        "#include <cuda.h>\n",
        "#include <iostream>\n",
        "#define N  4\n",
        "#define Width  4\n",
        "#define TILE_WIDTH  2\n",
        "using namespace std;\n",
        "\n",
        "__global__ void matrix_mul(int* a, int* b, int* c){\n",
        "\n",
        "    int row = blockIdx.y * blockDim.y + threadIdx.y;\n",
        "    int col = blockIdx.x * blockDim.x + threadIdx.x;\n",
        "\n",
        "    int sum = 0;            \n",
        "    for (int k=0; k<N; k++){\n",
        "        sum += a[row*N + k] * b[k*N + col];\n",
        "    }\n",
        "    c[row*N+col] = sum;\n",
        "}\n",
        "\n",
        "int main(){\n",
        "    \n",
        "    int* h_a, * h_b, * h_c;\n",
        "    size_t bytes = N * N * sizeof(int);\n",
        "    srand(time(NULL));\n",
        "    \n",
        "    cudaMallocHost(&h_a, bytes);\n",
        "    cudaMallocHost(&h_b, bytes);\n",
        "    cudaMallocHost(&h_c, bytes);\n",
        "\n",
        "    for (int i=0; i<N*N; i++){\n",
        "        h_a[i] = rand()%5;\n",
        "        h_b[i] = rand()%5;\n",
        "    }\n",
        "\n",
        "    cout << \"Values of array h_a:\" << endl;\n",
        "    for (int i=0; i<N; i++){\n",
        "        for (int j=0; j<N; j++){\n",
        "            cout << h_a[i*N+j] << \" \";\n",
        "        }\n",
        "        cout << endl;\n",
        "    }\n",
        "    cout << \"\\nValues of array h_b:\" << endl;\n",
        "    for (int i=0; i<N; i++){\n",
        "        for (int j=0; j<N; j++){\n",
        "            cout << h_b[i*N+j] << \" \";\n",
        "        }\n",
        "        cout << endl;\n",
        "    }\n",
        "    cout << \"\\n-------------START-----------\\n\";\n",
        "\n",
        "     # // Create device variables\n",
        "    int* d_a, * d_b, * d_c;\n",
        "\n",
        "    # // Allocate memory on the device\n",
        "    cudaMalloc(&d_a, bytes);\n",
        "    cudaMalloc(&d_b, bytes);\n",
        "    cudaMalloc(&d_c, bytes);\n",
        "\n",
        "    # // Copy data from the host to the device (CPU -> GPU)\n",
        "    cudaMemcpy(d_a, h_a, bytes, cudaMemcpyHostToDevice);\n",
        "    cudaMemcpy(d_b, h_b, bytes, cudaMemcpyHostToDevice);\n",
        "\n",
        "    dim3 dimGrid(Width/TILE_WIDTH, Width/TILE_WIDTH, 1);\n",
        "    dim3 dimBlock(TILE_WIDTH, TILE_WIDTH, 1);\n",
        "\n",
        "\n",
        "    # // Lauch the kernel\n",
        "    matrix_mul<<<dimGrid, dimBlock>>>(d_a, d_b, d_c);\n",
        "    # // Copy data from the device to the host (GPU -> CPU)\n",
        "    cudaMemcpy(h_c, d_c, bytes, cudaMemcpyDeviceToHost);\n",
        "\n",
        "    cout << endl << \"values of array h_c \" << endl;\n",
        "    for (int i=0; i<N; i++){\n",
        "        for (int j=0; j<N; j++){\n",
        "            cout << h_c[i*N+j] << \" \";\n",
        "        }\n",
        "        cout << endl;\n",
        "    }\n",
        "\n",
        "\n",
        "  return 0;\n",
        "}"
      ],
      "execution_count": 10,
      "outputs": [
        {
          "output_type": "stream",
          "text": [
            "Values of array h_a:\n",
            "1 2 2 4 \n",
            "0 0 1 1 \n",
            "4 1 4 1 \n",
            "0 1 0 2 \n",
            "\n",
            "Values of array h_b:\n",
            "0 3 0 2 \n",
            "2 1 4 0 \n",
            "2 1 1 0 \n",
            "4 4 1 1 \n",
            "\n",
            "-------------START-----------\n",
            "\n",
            "values of array h_c \n",
            "24 23 14 6 \n",
            "6 5 2 1 \n",
            "14 21 9 9 \n",
            "10 9 6 2 \n",
            "\n"
          ],
          "name": "stdout"
        }
      ]
    },
    {
      "cell_type": "code",
      "metadata": {
        "id": "cnJxQGKebbNy"
      },
      "source": [
        ""
      ],
      "execution_count": null,
      "outputs": []
    }
  ]
}